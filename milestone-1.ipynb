{
 "cells": [
  {
   "cell_type": "markdown",
   "metadata": {},
   "source": [
    "# Forecasting Energy Demand - Milestone 1"
   ]
  },
  {
   "cell_type": "markdown",
   "metadata": {},
   "source": [
    "This Jupyter notebook serves as a partial solution to Milestone 1 of the liveProject on forecasting energy demand in Python. It is the full solution with all of the code removed."
   ]
  },
  {
   "cell_type": "markdown",
   "metadata": {},
   "source": [
    "## Importing Necessary Libraries and Functions"
   ]
  },
  {
   "cell_type": "markdown",
   "metadata": {},
   "source": [
    "The first thing we need to do is import the necessary functions and libraries that we will be working with throughout the topic. We should also go ahead and upload all the of the necessary data sets here instead of loading them as we go. We will be using energy production data from PJM Interconnection. They are a regional transmission organization that coordinates the movement of wholesale electricity in parts of the United States. Specifically, we will be focused on a region of Pennsylvania. We will also be using temperature data collected from the National Oceanic and Atmospheric Assocation (NOAA)."
   ]
  },
  {
   "cell_type": "code",
   "execution_count": 3,
   "metadata": {},
   "outputs": [
    {
     "name": "stderr",
     "output_type": "stream",
     "text": [
      "Der Befehl \"conda\" ist entweder falsch geschrieben oder\n",
      "konnte nicht gefunden werden.\n",
      "Der Befehl \"conda\" ist entweder falsch geschrieben oder\n",
      "konnte nicht gefunden werden.\n",
      "Der Befehl \"conda\" ist entweder falsch geschrieben oder\n",
      "konnte nicht gefunden werden.\n",
      "Der Befehl \"conda\" ist entweder falsch geschrieben oder\n",
      "konnte nicht gefunden werden.\n"
     ]
    }
   ],
   "source": [
    "# !conda update -n base -c defaults conda\n",
    "#\n",
    "# !conda install pandas -y\n",
    "# !conda install numpy -y\n",
    "# !conda install matplotlib -y"
   ]
  },
  {
   "cell_type": "code",
   "execution_count": 4,
   "metadata": {},
   "outputs": [],
   "source": [
    "import pandas as pd\n",
    "import numpy as np\n",
    "import matplotlib.pyplot as plt"
   ]
  },
  {
   "cell_type": "markdown",
   "metadata": {},
   "source": [
    "## Preparing the Energy and Temperature Data"
   ]
  },
  {
   "cell_type": "markdown",
   "metadata": {},
   "source": [
    "First we need to load our weather and energy data sets for cleaning. Let's use the pandas library and the ```read.csv``` function to do this."
   ]
  },
  {
   "cell_type": "code",
   "execution_count": 6,
   "outputs": [
    {
     "data": {
      "text/plain": "       STATION                 DATE REPORT_TYPE  SOURCE  \\\n0  72520514762  2017-02-01T00:53:00       FM-15       7   \n1  72520514762  2017-02-01T01:53:00       FM-15       7   \n2  72520514762  2017-02-01T02:53:00       FM-15       7   \n3  72520514762  2017-02-01T03:53:00       FM-15       7   \n4  72520514762  2017-02-01T04:53:00       FM-15       7   \n\n   HourlyDryBulbTemperature  \n0                      37.0  \n1                      37.0  \n2                      36.0  \n3                      36.0  \n4                      36.0  ",
      "text/html": "<div>\n<style scoped>\n    .dataframe tbody tr th:only-of-type {\n        vertical-align: middle;\n    }\n\n    .dataframe tbody tr th {\n        vertical-align: top;\n    }\n\n    .dataframe thead th {\n        text-align: right;\n    }\n</style>\n<table border=\"1\" class=\"dataframe\">\n  <thead>\n    <tr style=\"text-align: right;\">\n      <th></th>\n      <th>STATION</th>\n      <th>DATE</th>\n      <th>REPORT_TYPE</th>\n      <th>SOURCE</th>\n      <th>HourlyDryBulbTemperature</th>\n    </tr>\n  </thead>\n  <tbody>\n    <tr>\n      <th>0</th>\n      <td>72520514762</td>\n      <td>2017-02-01T00:53:00</td>\n      <td>FM-15</td>\n      <td>7</td>\n      <td>37.0</td>\n    </tr>\n    <tr>\n      <th>1</th>\n      <td>72520514762</td>\n      <td>2017-02-01T01:53:00</td>\n      <td>FM-15</td>\n      <td>7</td>\n      <td>37.0</td>\n    </tr>\n    <tr>\n      <th>2</th>\n      <td>72520514762</td>\n      <td>2017-02-01T02:53:00</td>\n      <td>FM-15</td>\n      <td>7</td>\n      <td>36.0</td>\n    </tr>\n    <tr>\n      <th>3</th>\n      <td>72520514762</td>\n      <td>2017-02-01T03:53:00</td>\n      <td>FM-15</td>\n      <td>7</td>\n      <td>36.0</td>\n    </tr>\n    <tr>\n      <th>4</th>\n      <td>72520514762</td>\n      <td>2017-02-01T04:53:00</td>\n      <td>FM-15</td>\n      <td>7</td>\n      <td>36.0</td>\n    </tr>\n  </tbody>\n</table>\n</div>"
     },
     "execution_count": 6,
     "metadata": {},
     "output_type": "execute_result"
    }
   ],
   "source": [
    "temp = pd.read_csv('hr_temp_20170201-20200131_subset.csv')"
   ],
   "metadata": {
    "collapsed": false,
    "pycharm": {
     "name": "#%%\n"
    }
   }
  },
  {
   "cell_type": "code",
   "execution_count": 7,
   "outputs": [
    {
     "data": {
      "text/plain": "  datetime_beginning_utc datetime_beginning_ept nerc_region mkt_region zone  \\\n0          2/1/2017 5:00          2/1/2017 0:00         RFC       WEST  DUQ   \n1          2/1/2017 6:00          2/1/2017 1:00         RFC       WEST  DUQ   \n2          2/1/2017 7:00          2/1/2017 2:00         RFC       WEST  DUQ   \n3          2/1/2017 8:00          2/1/2017 3:00         RFC       WEST  DUQ   \n4          2/1/2017 9:00          2/1/2017 4:00         RFC       WEST  DUQ   \n\n  load_area        mw  is_verified  \n0       DUQ  1419.881         True  \n1       DUQ  1379.505         True  \n2       DUQ  1366.106         True  \n3       DUQ  1364.453         True  \n4       DUQ  1391.265         True  ",
      "text/html": "<div>\n<style scoped>\n    .dataframe tbody tr th:only-of-type {\n        vertical-align: middle;\n    }\n\n    .dataframe tbody tr th {\n        vertical-align: top;\n    }\n\n    .dataframe thead th {\n        text-align: right;\n    }\n</style>\n<table border=\"1\" class=\"dataframe\">\n  <thead>\n    <tr style=\"text-align: right;\">\n      <th></th>\n      <th>datetime_beginning_utc</th>\n      <th>datetime_beginning_ept</th>\n      <th>nerc_region</th>\n      <th>mkt_region</th>\n      <th>zone</th>\n      <th>load_area</th>\n      <th>mw</th>\n      <th>is_verified</th>\n    </tr>\n  </thead>\n  <tbody>\n    <tr>\n      <th>0</th>\n      <td>2/1/2017 5:00</td>\n      <td>2/1/2017 0:00</td>\n      <td>RFC</td>\n      <td>WEST</td>\n      <td>DUQ</td>\n      <td>DUQ</td>\n      <td>1419.881</td>\n      <td>True</td>\n    </tr>\n    <tr>\n      <th>1</th>\n      <td>2/1/2017 6:00</td>\n      <td>2/1/2017 1:00</td>\n      <td>RFC</td>\n      <td>WEST</td>\n      <td>DUQ</td>\n      <td>DUQ</td>\n      <td>1379.505</td>\n      <td>True</td>\n    </tr>\n    <tr>\n      <th>2</th>\n      <td>2/1/2017 7:00</td>\n      <td>2/1/2017 2:00</td>\n      <td>RFC</td>\n      <td>WEST</td>\n      <td>DUQ</td>\n      <td>DUQ</td>\n      <td>1366.106</td>\n      <td>True</td>\n    </tr>\n    <tr>\n      <th>3</th>\n      <td>2/1/2017 8:00</td>\n      <td>2/1/2017 3:00</td>\n      <td>RFC</td>\n      <td>WEST</td>\n      <td>DUQ</td>\n      <td>DUQ</td>\n      <td>1364.453</td>\n      <td>True</td>\n    </tr>\n    <tr>\n      <th>4</th>\n      <td>2/1/2017 9:00</td>\n      <td>2/1/2017 4:00</td>\n      <td>RFC</td>\n      <td>WEST</td>\n      <td>DUQ</td>\n      <td>DUQ</td>\n      <td>1391.265</td>\n      <td>True</td>\n    </tr>\n  </tbody>\n</table>\n</div>"
     },
     "execution_count": 7,
     "metadata": {},
     "output_type": "execute_result"
    }
   ],
   "source": [
    "load = pd.read_csv('hrl_load_metered - 20170201-20200131.csv')\n",
    "load.head()"
   ],
   "metadata": {
    "collapsed": false,
    "pycharm": {
     "name": "#%%\n"
    }
   }
  },
  {
   "cell_type": "markdown",
   "metadata": {},
   "source": [
    "It is always good practice to take a look at the first few observations of the data set to make sure that everything looks like how we expected it to when we read in our CSV file. Let's use the ```head``` function for this."
   ]
  },
  {
   "cell_type": "code",
   "execution_count": 8,
   "outputs": [
    {
     "data": {
      "text/plain": "       STATION                 DATE REPORT_TYPE  SOURCE  \\\n0  72520514762  2017-02-01T00:53:00       FM-15       7   \n1  72520514762  2017-02-01T01:53:00       FM-15       7   \n2  72520514762  2017-02-01T02:53:00       FM-15       7   \n3  72520514762  2017-02-01T03:53:00       FM-15       7   \n4  72520514762  2017-02-01T04:53:00       FM-15       7   \n\n   HourlyDryBulbTemperature  \n0                      37.0  \n1                      37.0  \n2                      36.0  \n3                      36.0  \n4                      36.0  ",
      "text/html": "<div>\n<style scoped>\n    .dataframe tbody tr th:only-of-type {\n        vertical-align: middle;\n    }\n\n    .dataframe tbody tr th {\n        vertical-align: top;\n    }\n\n    .dataframe thead th {\n        text-align: right;\n    }\n</style>\n<table border=\"1\" class=\"dataframe\">\n  <thead>\n    <tr style=\"text-align: right;\">\n      <th></th>\n      <th>STATION</th>\n      <th>DATE</th>\n      <th>REPORT_TYPE</th>\n      <th>SOURCE</th>\n      <th>HourlyDryBulbTemperature</th>\n    </tr>\n  </thead>\n  <tbody>\n    <tr>\n      <th>0</th>\n      <td>72520514762</td>\n      <td>2017-02-01T00:53:00</td>\n      <td>FM-15</td>\n      <td>7</td>\n      <td>37.0</td>\n    </tr>\n    <tr>\n      <th>1</th>\n      <td>72520514762</td>\n      <td>2017-02-01T01:53:00</td>\n      <td>FM-15</td>\n      <td>7</td>\n      <td>37.0</td>\n    </tr>\n    <tr>\n      <th>2</th>\n      <td>72520514762</td>\n      <td>2017-02-01T02:53:00</td>\n      <td>FM-15</td>\n      <td>7</td>\n      <td>36.0</td>\n    </tr>\n    <tr>\n      <th>3</th>\n      <td>72520514762</td>\n      <td>2017-02-01T03:53:00</td>\n      <td>FM-15</td>\n      <td>7</td>\n      <td>36.0</td>\n    </tr>\n    <tr>\n      <th>4</th>\n      <td>72520514762</td>\n      <td>2017-02-01T04:53:00</td>\n      <td>FM-15</td>\n      <td>7</td>\n      <td>36.0</td>\n    </tr>\n  </tbody>\n</table>\n</div>"
     },
     "execution_count": 8,
     "metadata": {},
     "output_type": "execute_result"
    }
   ],
   "source": [
    "temp.head()"
   ],
   "metadata": {
    "collapsed": false,
    "pycharm": {
     "name": "#%%\n"
    }
   }
  },
  {
   "cell_type": "markdown",
   "metadata": {},
   "source": [
    "Perfect! We have temperature as well as time. There are some other pieces of information like the station number, source of the reading and reading type, but we don't need those.\n",
    "\n",
    "Let's take a look at the first few observations of the energy data as well!"
   ]
  },
  {
   "cell_type": "code",
   "execution_count": 10,
   "outputs": [
    {
     "data": {
      "text/plain": "  datetime_beginning_utc datetime_beginning_ept nerc_region mkt_region zone  \\\n0          2/1/2017 5:00          2/1/2017 0:00         RFC       WEST  DUQ   \n1          2/1/2017 6:00          2/1/2017 1:00         RFC       WEST  DUQ   \n2          2/1/2017 7:00          2/1/2017 2:00         RFC       WEST  DUQ   \n3          2/1/2017 8:00          2/1/2017 3:00         RFC       WEST  DUQ   \n4          2/1/2017 9:00          2/1/2017 4:00         RFC       WEST  DUQ   \n\n  load_area        mw  is_verified  \n0       DUQ  1419.881         True  \n1       DUQ  1379.505         True  \n2       DUQ  1366.106         True  \n3       DUQ  1364.453         True  \n4       DUQ  1391.265         True  ",
      "text/html": "<div>\n<style scoped>\n    .dataframe tbody tr th:only-of-type {\n        vertical-align: middle;\n    }\n\n    .dataframe tbody tr th {\n        vertical-align: top;\n    }\n\n    .dataframe thead th {\n        text-align: right;\n    }\n</style>\n<table border=\"1\" class=\"dataframe\">\n  <thead>\n    <tr style=\"text-align: right;\">\n      <th></th>\n      <th>datetime_beginning_utc</th>\n      <th>datetime_beginning_ept</th>\n      <th>nerc_region</th>\n      <th>mkt_region</th>\n      <th>zone</th>\n      <th>load_area</th>\n      <th>mw</th>\n      <th>is_verified</th>\n    </tr>\n  </thead>\n  <tbody>\n    <tr>\n      <th>0</th>\n      <td>2/1/2017 5:00</td>\n      <td>2/1/2017 0:00</td>\n      <td>RFC</td>\n      <td>WEST</td>\n      <td>DUQ</td>\n      <td>DUQ</td>\n      <td>1419.881</td>\n      <td>True</td>\n    </tr>\n    <tr>\n      <th>1</th>\n      <td>2/1/2017 6:00</td>\n      <td>2/1/2017 1:00</td>\n      <td>RFC</td>\n      <td>WEST</td>\n      <td>DUQ</td>\n      <td>DUQ</td>\n      <td>1379.505</td>\n      <td>True</td>\n    </tr>\n    <tr>\n      <th>2</th>\n      <td>2/1/2017 7:00</td>\n      <td>2/1/2017 2:00</td>\n      <td>RFC</td>\n      <td>WEST</td>\n      <td>DUQ</td>\n      <td>DUQ</td>\n      <td>1366.106</td>\n      <td>True</td>\n    </tr>\n    <tr>\n      <th>3</th>\n      <td>2/1/2017 8:00</td>\n      <td>2/1/2017 3:00</td>\n      <td>RFC</td>\n      <td>WEST</td>\n      <td>DUQ</td>\n      <td>DUQ</td>\n      <td>1364.453</td>\n      <td>True</td>\n    </tr>\n    <tr>\n      <th>4</th>\n      <td>2/1/2017 9:00</td>\n      <td>2/1/2017 4:00</td>\n      <td>RFC</td>\n      <td>WEST</td>\n      <td>DUQ</td>\n      <td>DUQ</td>\n      <td>1391.265</td>\n      <td>True</td>\n    </tr>\n  </tbody>\n</table>\n</div>"
     },
     "execution_count": 10,
     "metadata": {},
     "output_type": "execute_result"
    }
   ],
   "source": [
    "load.head()"
   ],
   "metadata": {
    "collapsed": false,
    "pycharm": {
     "name": "#%%\n"
    }
   }
  },
  {
   "cell_type": "markdown",
   "metadata": {},
   "source": [
    "Great! Again, we have the important information of time as well as megawatt (MW) readings per hour. Again, there are some other varibales that we won't end up using in this data set as well.\n",
    "\n",
    "Let's get rid of the variables we don't need and combine the variables that we do need into one pandas data frame. Dictionaries are an easy way of doing this. Here, we are pulling the MW column from the energy data set as well as the temperature and date columns from the weather data set. These data sets already line up on time which makes this much easier."
   ]
  },
  {
   "cell_type": "markdown",
   "metadata": {},
   "source": [
    "Now let's create our pandas data frame."
   ]
  },
  {
   "cell_type": "code",
   "execution_count": 15,
   "outputs": [
    {
     "data": {
      "text/plain": "                  date  temp        mw\n0  2017-02-01T00:53:00  37.0  1419.881\n1  2017-02-01T01:53:00  37.0  1379.505\n2  2017-02-01T02:53:00  36.0  1366.106\n3  2017-02-01T03:53:00  36.0  1364.453\n4  2017-02-01T04:53:00  36.0  1391.265",
      "text/html": "<div>\n<style scoped>\n    .dataframe tbody tr th:only-of-type {\n        vertical-align: middle;\n    }\n\n    .dataframe tbody tr th {\n        vertical-align: top;\n    }\n\n    .dataframe thead th {\n        text-align: right;\n    }\n</style>\n<table border=\"1\" class=\"dataframe\">\n  <thead>\n    <tr style=\"text-align: right;\">\n      <th></th>\n      <th>date</th>\n      <th>temp</th>\n      <th>mw</th>\n    </tr>\n  </thead>\n  <tbody>\n    <tr>\n      <th>0</th>\n      <td>2017-02-01T00:53:00</td>\n      <td>37.0</td>\n      <td>1419.881</td>\n    </tr>\n    <tr>\n      <th>1</th>\n      <td>2017-02-01T01:53:00</td>\n      <td>37.0</td>\n      <td>1379.505</td>\n    </tr>\n    <tr>\n      <th>2</th>\n      <td>2017-02-01T02:53:00</td>\n      <td>36.0</td>\n      <td>1366.106</td>\n    </tr>\n    <tr>\n      <th>3</th>\n      <td>2017-02-01T03:53:00</td>\n      <td>36.0</td>\n      <td>1364.453</td>\n    </tr>\n    <tr>\n      <th>4</th>\n      <td>2017-02-01T04:53:00</td>\n      <td>36.0</td>\n      <td>1391.265</td>\n    </tr>\n  </tbody>\n</table>\n</div>"
     },
     "execution_count": 15,
     "metadata": {},
     "output_type": "execute_result"
    }
   ],
   "source": [
    "data = pd.DataFrame({\n",
    "    'date': temp['DATE'],\n",
    "    'temp': temp['HourlyDryBulbTemperature'],\n",
    "    'mw': load['mw']\n",
    "})\n",
    "data.head()"
   ],
   "metadata": {
    "collapsed": false,
    "pycharm": {
     "name": "#%%\n"
    }
   }
  },
  {
   "cell_type": "markdown",
   "metadata": {},
   "source": [
    "One of the problems when loading a data set you want to run time series analysis on is the type of object Python sees for the \"date\" variable. Let's look at the pandas data frame data types for each of our variables."
   ]
  },
  {
   "cell_type": "code",
   "execution_count": 16,
   "outputs": [
    {
     "name": "stdout",
     "output_type": "stream",
     "text": [
      "<class 'pandas.core.frame.DataFrame'>\n",
      "RangeIndex: 26280 entries, 0 to 26279\n",
      "Data columns (total 3 columns):\n",
      " #   Column  Non-Null Count  Dtype  \n",
      "---  ------  --------------  -----  \n",
      " 0   date    26280 non-null  object \n",
      " 1   temp    26243 non-null  float64\n",
      " 2   mw      26280 non-null  float64\n",
      "dtypes: float64(2), object(1)\n",
      "memory usage: 616.1+ KB\n"
     ]
    }
   ],
   "source": [
    "data.info()\n"
   ],
   "metadata": {
    "collapsed": false,
    "pycharm": {
     "name": "#%%\n"
    }
   }
  },
  {
   "cell_type": "markdown",
   "metadata": {},
   "source": [
    "Here we can see that the Date variable is a general object and not a \"date\" according to Python. We can change that with the pandas function ```to_datetime``` as we have below."
   ]
  },
  {
   "cell_type": "code",
   "execution_count": 18,
   "outputs": [
    {
     "name": "stdout",
     "output_type": "stream",
     "text": [
      "<class 'pandas.core.frame.DataFrame'>\n",
      "RangeIndex: 26280 entries, 0 to 26279\n",
      "Data columns (total 3 columns):\n",
      " #   Column  Non-Null Count  Dtype         \n",
      "---  ------  --------------  -----         \n",
      " 0   date    26280 non-null  datetime64[ns]\n",
      " 1   temp    26243 non-null  float64       \n",
      " 2   mw      26280 non-null  float64       \n",
      "dtypes: datetime64[ns](1), float64(2)\n",
      "memory usage: 616.1 KB\n"
     ]
    }
   ],
   "source": [
    "data['date'] = pd.to_datetime(data['date'])\n",
    "data.info()"
   ],
   "metadata": {
    "collapsed": false,
    "pycharm": {
     "name": "#%%\n"
    }
   }
  },
  {
   "cell_type": "markdown",
   "metadata": {},
   "source": [
    "Good! Now that we have a ```datetime64``` object in our data set we can easily create other forms of date variables. The hour of day, day of week, month of year, and possibly even the year itself might all impact the energy usage. Let's extract these variables from our date object so that we can use them in our analysis. Pandas has some wonderful functionality to do this with the ```hour```, ```day```, ```dayofweek```, ```month```, and ```year``` functions. Then let's inspect the first few observations to make sure things look correct."
   ]
  },
  {
   "cell_type": "code",
   "execution_count": 20,
   "outputs": [
    {
     "data": {
      "text/plain": "                 date  temp        mw  hour  weekday  month  year\n0 2017-02-01 00:53:00  37.0  1419.881     0        2      2  2017\n1 2017-02-01 01:53:00  37.0  1379.505     1        2      2  2017\n2 2017-02-01 02:53:00  36.0  1366.106     2        2      2  2017\n3 2017-02-01 03:53:00  36.0  1364.453     3        2      2  2017\n4 2017-02-01 04:53:00  36.0  1391.265     4        2      2  2017",
      "text/html": "<div>\n<style scoped>\n    .dataframe tbody tr th:only-of-type {\n        vertical-align: middle;\n    }\n\n    .dataframe tbody tr th {\n        vertical-align: top;\n    }\n\n    .dataframe thead th {\n        text-align: right;\n    }\n</style>\n<table border=\"1\" class=\"dataframe\">\n  <thead>\n    <tr style=\"text-align: right;\">\n      <th></th>\n      <th>date</th>\n      <th>temp</th>\n      <th>mw</th>\n      <th>hour</th>\n      <th>weekday</th>\n      <th>month</th>\n      <th>year</th>\n    </tr>\n  </thead>\n  <tbody>\n    <tr>\n      <th>0</th>\n      <td>2017-02-01 00:53:00</td>\n      <td>37.0</td>\n      <td>1419.881</td>\n      <td>0</td>\n      <td>2</td>\n      <td>2</td>\n      <td>2017</td>\n    </tr>\n    <tr>\n      <th>1</th>\n      <td>2017-02-01 01:53:00</td>\n      <td>37.0</td>\n      <td>1379.505</td>\n      <td>1</td>\n      <td>2</td>\n      <td>2</td>\n      <td>2017</td>\n    </tr>\n    <tr>\n      <th>2</th>\n      <td>2017-02-01 02:53:00</td>\n      <td>36.0</td>\n      <td>1366.106</td>\n      <td>2</td>\n      <td>2</td>\n      <td>2</td>\n      <td>2017</td>\n    </tr>\n    <tr>\n      <th>3</th>\n      <td>2017-02-01 03:53:00</td>\n      <td>36.0</td>\n      <td>1364.453</td>\n      <td>3</td>\n      <td>2</td>\n      <td>2</td>\n      <td>2017</td>\n    </tr>\n    <tr>\n      <th>4</th>\n      <td>2017-02-01 04:53:00</td>\n      <td>36.0</td>\n      <td>1391.265</td>\n      <td>4</td>\n      <td>2</td>\n      <td>2</td>\n      <td>2017</td>\n    </tr>\n  </tbody>\n</table>\n</div>"
     },
     "execution_count": 20,
     "metadata": {},
     "output_type": "execute_result"
    }
   ],
   "source": [
    "data['hour'] = data['date'].dt.hour\n",
    "data['weekday'] = data['date'].dt.weekday\n",
    "data['month'] = data['date'].dt.month\n",
    "data['year'] = data['date'].dt.year\n",
    "data.head()"
   ],
   "metadata": {
    "collapsed": false,
    "pycharm": {
     "name": "#%%\n"
    }
   }
  },
  {
   "cell_type": "markdown",
   "metadata": {},
   "source": [
    "Everything looks good in the first few observations above. If you still aren't convinced you could pull different pieces of the data frame to make sure that other observations are structured correctly.\n",
    "\n",
    "Now we should set this Python date object as the index of our data set. This will make it easier for plotting as well as forecasting later. We can use the ```set_index``` function for this."
   ]
  },
  {
   "cell_type": "code",
   "execution_count": 23,
   "outputs": [
    {
     "ename": "KeyError",
     "evalue": "\"None of ['date'] are in the columns\"",
     "output_type": "error",
     "traceback": [
      "\u001B[1;31m---------------------------------------------------------------------------\u001B[0m",
      "\u001B[1;31mKeyError\u001B[0m                                  Traceback (most recent call last)",
      "\u001B[1;32m<ipython-input-23-2f451fe23d30>\u001B[0m in \u001B[0;36m<module>\u001B[1;34m\u001B[0m\n\u001B[1;32m----> 1\u001B[1;33m \u001B[0mdata\u001B[0m\u001B[1;33m.\u001B[0m\u001B[0mset_index\u001B[0m\u001B[1;33m(\u001B[0m\u001B[1;34m'date'\u001B[0m\u001B[1;33m,\u001B[0m \u001B[0minplace\u001B[0m\u001B[1;33m=\u001B[0m\u001B[1;32mTrue\u001B[0m\u001B[1;33m)\u001B[0m\u001B[1;33m\u001B[0m\u001B[1;33m\u001B[0m\u001B[0m\n\u001B[0m\u001B[0;32m      2\u001B[0m \u001B[0mdata\u001B[0m\u001B[1;33m.\u001B[0m\u001B[0mhead\u001B[0m\u001B[1;33m(\u001B[0m\u001B[1;33m)\u001B[0m\u001B[1;33m\u001B[0m\u001B[1;33m\u001B[0m\u001B[0m\n\u001B[0;32m      3\u001B[0m \u001B[1;33m\u001B[0m\u001B[0m\n",
      "\u001B[1;32mc:\\users\\kdeu1316\\desktop\\workspace\\enery_usage_forcast\\venv\\lib\\site-packages\\pandas\\core\\frame.py\u001B[0m in \u001B[0;36mset_index\u001B[1;34m(self, keys, drop, append, inplace, verify_integrity)\u001B[0m\n\u001B[0;32m   4725\u001B[0m \u001B[1;33m\u001B[0m\u001B[0m\n\u001B[0;32m   4726\u001B[0m         \u001B[1;32mif\u001B[0m \u001B[0mmissing\u001B[0m\u001B[1;33m:\u001B[0m\u001B[1;33m\u001B[0m\u001B[1;33m\u001B[0m\u001B[0m\n\u001B[1;32m-> 4727\u001B[1;33m             \u001B[1;32mraise\u001B[0m \u001B[0mKeyError\u001B[0m\u001B[1;33m(\u001B[0m\u001B[1;34mf\"None of {missing} are in the columns\"\u001B[0m\u001B[1;33m)\u001B[0m\u001B[1;33m\u001B[0m\u001B[1;33m\u001B[0m\u001B[0m\n\u001B[0m\u001B[0;32m   4728\u001B[0m \u001B[1;33m\u001B[0m\u001B[0m\n\u001B[0;32m   4729\u001B[0m         \u001B[1;32mif\u001B[0m \u001B[0minplace\u001B[0m\u001B[1;33m:\u001B[0m\u001B[1;33m\u001B[0m\u001B[1;33m\u001B[0m\u001B[0m\n",
      "\u001B[1;31mKeyError\u001B[0m: \"None of ['date'] are in the columns\""
     ]
    }
   ],
   "source": [
    "data.set_index('date', inplace=True)"
   ],
   "metadata": {
    "collapsed": false,
    "pycharm": {
     "name": "#%%\n"
    }
   }
  },
  {
   "cell_type": "markdown",
   "metadata": {},
   "source": [
    "Good! Now that we have our data structured as we would like, we can start the cleaning of the data. First, let's check if there are any missing values in the temperature column. The ```is.null``` function will help us here."
   ]
  },
  {
   "cell_type": "code",
   "execution_count": 29,
   "outputs": [
    {
     "data": {
      "text/plain": "temp       37\nmw          0\nhour        0\nweekday     0\nmonth       0\nyear        0\ndtype: int64"
     },
     "execution_count": 29,
     "metadata": {},
     "output_type": "execute_result"
    }
   ],
   "source": [
    "data.isnull().sum()"
   ],
   "metadata": {
    "collapsed": false,
    "pycharm": {
     "name": "#%%\n"
    }
   }
  },
  {
   "cell_type": "markdown",
   "metadata": {},
   "source": [
    "Looks like there are 37 missing values in our temperature data. We shoudl impute those. However, we don't just want to put the average temperature in these spots as the overall average across three years probably isn't a good guess for any one hour. The temperature of the hours on either side of the missing observation would be more helpful. Let's do a linear interpolation across missing values to help with this. This will essentially draw a straight line between the two known points to fill in the missing values. We can use the ```interpolate(method='linear')``` function for this."
   ]
  },
  {
   "cell_type": "code",
   "execution_count": 30,
   "outputs": [
    {
     "data": {
      "text/plain": "0"
     },
     "execution_count": 30,
     "metadata": {},
     "output_type": "execute_result"
    }
   ],
   "source": [
    "data['temp'].interpolate(method='linear', inplace=True)"
   ],
   "metadata": {
    "collapsed": false,
    "pycharm": {
     "name": "#%%\n"
    }
   }
  },
  {
   "cell_type": "markdown",
   "metadata": {},
   "source": [
    "Now let's see if we have any more missing temperature values."
   ]
  },
  {
   "cell_type": "code",
   "execution_count": 31,
   "outputs": [
    {
     "data": {
      "text/plain": "0"
     },
     "execution_count": 31,
     "metadata": {},
     "output_type": "execute_result"
    }
   ],
   "source": [
    "data['temp'].isnull().sum()"
   ],
   "metadata": {
    "collapsed": false,
    "pycharm": {
     "name": "#%%\n"
    }
   }
  },
  {
   "cell_type": "markdown",
   "metadata": {},
   "source": [
    "No more! Time to check if the energy data has any missing values."
   ]
  },
  {
   "cell_type": "markdown",
   "metadata": {},
   "source": [
    "No missing values there either! Perfect.\n",
    "\n",
    "Now it is time to split the data into two pieces - training and testing. The training data set is the data set we will be building our model on, while the testing data set is what we will be reporting results on since the model wouldn't have seen it ahead of time. Using the date index we can easily do this in our data frame."
   ]
  },
  {
   "cell_type": "code",
   "execution_count": 34,
   "outputs": [],
   "source": [
    "train = data[:'2019-12-31'].copy()\n",
    "test = data['2020-01':].copy()"
   ],
   "metadata": {
    "collapsed": false,
    "pycharm": {
     "name": "#%%\n"
    }
   }
  },
  {
   "cell_type": "code",
   "execution_count": 33,
   "outputs": [
    {
     "data": {
      "text/plain": "                     temp        mw  hour  weekday  month  year\ndate                                                           \n2020-01-01 00:53:00  31.0  1363.428     0        2      1  2020\n2020-01-01 01:53:00  29.0  1335.975     1        2      1  2020\n2020-01-01 02:53:00  30.0  1296.817     2        2      1  2020\n2020-01-01 03:53:00  30.0  1288.403     3        2      1  2020\n2020-01-01 04:53:00  31.0  1292.263     4        2      1  2020\n...                   ...       ...   ...      ...    ...   ...\n2020-01-31 19:53:00  34.0  1618.484    19        4      1  2020\n2020-01-31 20:53:00  33.0  1580.925    20        4      1  2020\n2020-01-31 21:53:00  33.0  1545.354    21        4      1  2020\n2020-01-31 22:53:00  33.0  1478.832    22        4      1  2020\n2020-01-31 23:53:00  34.0  1405.188    23        4      1  2020\n\n[744 rows x 6 columns]",
      "text/html": "<div>\n<style scoped>\n    .dataframe tbody tr th:only-of-type {\n        vertical-align: middle;\n    }\n\n    .dataframe tbody tr th {\n        vertical-align: top;\n    }\n\n    .dataframe thead th {\n        text-align: right;\n    }\n</style>\n<table border=\"1\" class=\"dataframe\">\n  <thead>\n    <tr style=\"text-align: right;\">\n      <th></th>\n      <th>temp</th>\n      <th>mw</th>\n      <th>hour</th>\n      <th>weekday</th>\n      <th>month</th>\n      <th>year</th>\n    </tr>\n    <tr>\n      <th>date</th>\n      <th></th>\n      <th></th>\n      <th></th>\n      <th></th>\n      <th></th>\n      <th></th>\n    </tr>\n  </thead>\n  <tbody>\n    <tr>\n      <th>2020-01-01 00:53:00</th>\n      <td>31.0</td>\n      <td>1363.428</td>\n      <td>0</td>\n      <td>2</td>\n      <td>1</td>\n      <td>2020</td>\n    </tr>\n    <tr>\n      <th>2020-01-01 01:53:00</th>\n      <td>29.0</td>\n      <td>1335.975</td>\n      <td>1</td>\n      <td>2</td>\n      <td>1</td>\n      <td>2020</td>\n    </tr>\n    <tr>\n      <th>2020-01-01 02:53:00</th>\n      <td>30.0</td>\n      <td>1296.817</td>\n      <td>2</td>\n      <td>2</td>\n      <td>1</td>\n      <td>2020</td>\n    </tr>\n    <tr>\n      <th>2020-01-01 03:53:00</th>\n      <td>30.0</td>\n      <td>1288.403</td>\n      <td>3</td>\n      <td>2</td>\n      <td>1</td>\n      <td>2020</td>\n    </tr>\n    <tr>\n      <th>2020-01-01 04:53:00</th>\n      <td>31.0</td>\n      <td>1292.263</td>\n      <td>4</td>\n      <td>2</td>\n      <td>1</td>\n      <td>2020</td>\n    </tr>\n    <tr>\n      <th>...</th>\n      <td>...</td>\n      <td>...</td>\n      <td>...</td>\n      <td>...</td>\n      <td>...</td>\n      <td>...</td>\n    </tr>\n    <tr>\n      <th>2020-01-31 19:53:00</th>\n      <td>34.0</td>\n      <td>1618.484</td>\n      <td>19</td>\n      <td>4</td>\n      <td>1</td>\n      <td>2020</td>\n    </tr>\n    <tr>\n      <th>2020-01-31 20:53:00</th>\n      <td>33.0</td>\n      <td>1580.925</td>\n      <td>20</td>\n      <td>4</td>\n      <td>1</td>\n      <td>2020</td>\n    </tr>\n    <tr>\n      <th>2020-01-31 21:53:00</th>\n      <td>33.0</td>\n      <td>1545.354</td>\n      <td>21</td>\n      <td>4</td>\n      <td>1</td>\n      <td>2020</td>\n    </tr>\n    <tr>\n      <th>2020-01-31 22:53:00</th>\n      <td>33.0</td>\n      <td>1478.832</td>\n      <td>22</td>\n      <td>4</td>\n      <td>1</td>\n      <td>2020</td>\n    </tr>\n    <tr>\n      <th>2020-01-31 23:53:00</th>\n      <td>34.0</td>\n      <td>1405.188</td>\n      <td>23</td>\n      <td>4</td>\n      <td>1</td>\n      <td>2020</td>\n    </tr>\n  </tbody>\n</table>\n<p>744 rows × 6 columns</p>\n</div>"
     },
     "execution_count": 33,
     "metadata": {},
     "output_type": "execute_result"
    }
   ],
   "source": [
    "data['2020-01':]"
   ],
   "metadata": {
    "collapsed": false,
    "pycharm": {
     "name": "#%%\n"
    }
   }
  },
  {
   "cell_type": "markdown",
   "metadata": {},
   "source": [
    "Now let's look at the first few observations for our training data set."
   ]
  },
  {
   "cell_type": "code",
   "execution_count": 35,
   "outputs": [
    {
     "data": {
      "text/plain": "                     temp        mw  hour  weekday  month  year\ndate                                                           \n2017-02-01 00:53:00  37.0  1419.881     0        2      2  2017\n2017-02-01 01:53:00  37.0  1379.505     1        2      2  2017\n2017-02-01 02:53:00  36.0  1366.106     2        2      2  2017\n2017-02-01 03:53:00  36.0  1364.453     3        2      2  2017\n2017-02-01 04:53:00  36.0  1391.265     4        2      2  2017",
      "text/html": "<div>\n<style scoped>\n    .dataframe tbody tr th:only-of-type {\n        vertical-align: middle;\n    }\n\n    .dataframe tbody tr th {\n        vertical-align: top;\n    }\n\n    .dataframe thead th {\n        text-align: right;\n    }\n</style>\n<table border=\"1\" class=\"dataframe\">\n  <thead>\n    <tr style=\"text-align: right;\">\n      <th></th>\n      <th>temp</th>\n      <th>mw</th>\n      <th>hour</th>\n      <th>weekday</th>\n      <th>month</th>\n      <th>year</th>\n    </tr>\n    <tr>\n      <th>date</th>\n      <th></th>\n      <th></th>\n      <th></th>\n      <th></th>\n      <th></th>\n      <th></th>\n    </tr>\n  </thead>\n  <tbody>\n    <tr>\n      <th>2017-02-01 00:53:00</th>\n      <td>37.0</td>\n      <td>1419.881</td>\n      <td>0</td>\n      <td>2</td>\n      <td>2</td>\n      <td>2017</td>\n    </tr>\n    <tr>\n      <th>2017-02-01 01:53:00</th>\n      <td>37.0</td>\n      <td>1379.505</td>\n      <td>1</td>\n      <td>2</td>\n      <td>2</td>\n      <td>2017</td>\n    </tr>\n    <tr>\n      <th>2017-02-01 02:53:00</th>\n      <td>36.0</td>\n      <td>1366.106</td>\n      <td>2</td>\n      <td>2</td>\n      <td>2</td>\n      <td>2017</td>\n    </tr>\n    <tr>\n      <th>2017-02-01 03:53:00</th>\n      <td>36.0</td>\n      <td>1364.453</td>\n      <td>3</td>\n      <td>2</td>\n      <td>2</td>\n      <td>2017</td>\n    </tr>\n    <tr>\n      <th>2017-02-01 04:53:00</th>\n      <td>36.0</td>\n      <td>1391.265</td>\n      <td>4</td>\n      <td>2</td>\n      <td>2</td>\n      <td>2017</td>\n    </tr>\n  </tbody>\n</table>\n</div>"
     },
     "execution_count": 35,
     "metadata": {},
     "output_type": "execute_result"
    }
   ],
   "source": [
    "train.head()"
   ],
   "metadata": {
    "collapsed": false,
    "pycharm": {
     "name": "#%%\n"
    }
   }
  },
  {
   "cell_type": "markdown",
   "metadata": {},
   "source": [
    "Everything looks good there!\n",
    "\n",
    "Now let's do the same for our testing data set."
   ]
  },
  {
   "cell_type": "code",
   "execution_count": 36,
   "outputs": [
    {
     "data": {
      "text/plain": "                     temp        mw  hour  weekday  month  year\ndate                                                           \n2020-01-01 00:53:00  31.0  1363.428     0        2      1  2020\n2020-01-01 01:53:00  29.0  1335.975     1        2      1  2020\n2020-01-01 02:53:00  30.0  1296.817     2        2      1  2020\n2020-01-01 03:53:00  30.0  1288.403     3        2      1  2020\n2020-01-01 04:53:00  31.0  1292.263     4        2      1  2020",
      "text/html": "<div>\n<style scoped>\n    .dataframe tbody tr th:only-of-type {\n        vertical-align: middle;\n    }\n\n    .dataframe tbody tr th {\n        vertical-align: top;\n    }\n\n    .dataframe thead th {\n        text-align: right;\n    }\n</style>\n<table border=\"1\" class=\"dataframe\">\n  <thead>\n    <tr style=\"text-align: right;\">\n      <th></th>\n      <th>temp</th>\n      <th>mw</th>\n      <th>hour</th>\n      <th>weekday</th>\n      <th>month</th>\n      <th>year</th>\n    </tr>\n    <tr>\n      <th>date</th>\n      <th></th>\n      <th></th>\n      <th></th>\n      <th></th>\n      <th></th>\n      <th></th>\n    </tr>\n  </thead>\n  <tbody>\n    <tr>\n      <th>2020-01-01 00:53:00</th>\n      <td>31.0</td>\n      <td>1363.428</td>\n      <td>0</td>\n      <td>2</td>\n      <td>1</td>\n      <td>2020</td>\n    </tr>\n    <tr>\n      <th>2020-01-01 01:53:00</th>\n      <td>29.0</td>\n      <td>1335.975</td>\n      <td>1</td>\n      <td>2</td>\n      <td>1</td>\n      <td>2020</td>\n    </tr>\n    <tr>\n      <th>2020-01-01 02:53:00</th>\n      <td>30.0</td>\n      <td>1296.817</td>\n      <td>2</td>\n      <td>2</td>\n      <td>1</td>\n      <td>2020</td>\n    </tr>\n    <tr>\n      <th>2020-01-01 03:53:00</th>\n      <td>30.0</td>\n      <td>1288.403</td>\n      <td>3</td>\n      <td>2</td>\n      <td>1</td>\n      <td>2020</td>\n    </tr>\n    <tr>\n      <th>2020-01-01 04:53:00</th>\n      <td>31.0</td>\n      <td>1292.263</td>\n      <td>4</td>\n      <td>2</td>\n      <td>1</td>\n      <td>2020</td>\n    </tr>\n  </tbody>\n</table>\n</div>"
     },
     "execution_count": 36,
     "metadata": {},
     "output_type": "execute_result"
    }
   ],
   "source": [
    "test.head()"
   ],
   "metadata": {
    "collapsed": false,
    "pycharm": {
     "name": "#%%\n"
    }
   }
  },
  {
   "cell_type": "markdown",
   "metadata": {
    "pycharm": {
     "name": "#%% md\n"
    }
   },
   "source": [
    "Excellent! We now have our data cleaned and split. By combining and cleaning the data sets, we will make the exploration of these data sets as well as the modeling of these data sets much easier for the upcoming sections!"
   ]
  }
 ],
 "metadata": {
  "kernelspec": {
   "display_name": "Python 3",
   "language": "python",
   "name": "python3"
  },
  "language_info": {
   "codemirror_mode": {
    "name": "ipython",
    "version": 3
   },
   "file_extension": ".py",
   "mimetype": "text/x-python",
   "name": "python",
   "nbconvert_exporter": "python",
   "pygments_lexer": "ipython3",
   "version": "3.8.5"
  }
 },
 "nbformat": 4,
 "nbformat_minor": 2
}